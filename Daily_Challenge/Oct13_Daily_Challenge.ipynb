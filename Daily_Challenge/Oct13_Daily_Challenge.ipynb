{
 "cells": [
  {
   "cell_type": "markdown",
   "id": "b88ab004",
   "metadata": {},
   "source": [
    "calculate mean of a numpy array and return the array greater than mean as new array"
   ]
  },
  {
   "cell_type": "code",
   "execution_count": 2,
   "id": "d7bfc781",
   "metadata": {},
   "outputs": [
    {
     "data": {
      "text/plain": [
       "np.float64(30.0)"
      ]
     },
     "execution_count": 2,
     "metadata": {},
     "output_type": "execute_result"
    }
   ],
   "source": [
    "import numpy as np\n",
    "arr = np.array([10,20,30,40,50])\n",
    "mean_val = np.mean(arr)\n",
    "mean_val"
   ]
  },
  {
   "cell_type": "code",
   "execution_count": 3,
   "id": "bbb767de",
   "metadata": {},
   "outputs": [
    {
     "data": {
      "text/plain": [
       "array([40, 50])"
      ]
     },
     "execution_count": 3,
     "metadata": {},
     "output_type": "execute_result"
    }
   ],
   "source": [
    "arr[arr > mean_val]"
   ]
  }
 ],
 "metadata": {
  "kernelspec": {
   "display_name": "agenticAI311",
   "language": "python",
   "name": "python3"
  },
  "language_info": {
   "codemirror_mode": {
    "name": "ipython",
    "version": 3
   },
   "file_extension": ".py",
   "mimetype": "text/x-python",
   "name": "python",
   "nbconvert_exporter": "python",
   "pygments_lexer": "ipython3",
   "version": "3.11.13"
  }
 },
 "nbformat": 4,
 "nbformat_minor": 5
}
